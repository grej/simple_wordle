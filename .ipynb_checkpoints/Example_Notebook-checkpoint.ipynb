{
 "cells": [
  {
   "cell_type": "code",
   "execution_count": 4,
   "id": "9cda04aa-705b-447a-a066-6e9dda19ac48",
   "metadata": {
    "tags": []
   },
   "outputs": [],
   "source": [
    "import pandas as pd\n",
    "\n",
    "from src.wordle import WordleSolver"
   ]
  },
  {
   "cell_type": "code",
   "execution_count": 5,
   "id": "8d1d6ea7-cca9-461d-b652-df4279142b3f",
   "metadata": {},
   "outputs": [],
   "source": [
    "five_char_irish_words = []\n",
    "unique_letters = {}\n",
    "\n",
    "def add_unq_letters(letter_list):\n",
    "    for l in letter_list:\n",
    "        l = l.lower()\n",
    "        unique_letters[l] = True\n",
    "\n",
    "with open('./assets/irish-word-frequency.txt', 'r') as file:\n",
    "    i = 0\n",
    "    for line in file:\n",
    "        if line[0].isdigit():\n",
    "            num, word, freq, *_ = line.split('\\t')\n",
    "            if len(word) == 5:\n",
    "                tmp = {}\n",
    "                tmp['word'] = word.lower()\n",
    "                tmp['freq'] = freq                \n",
    "                five_char_irish_words.append(tmp)\n",
    "                letters = list(word)\n",
    "                # add the positions to the dictionary\n",
    "                tmp['1'] = letters[1 - 1]\n",
    "                tmp['2'] = letters[2 - 1]\n",
    "                tmp['3'] = letters[3 - 1]\n",
    "                tmp['4'] = letters[4 - 1]\n",
    "                tmp['5'] = letters[5 - 1]\n",
    "                # add unique values to the unique letters dictionary\n",
    "                add_unq_letters(letters)\n",
    "                \n",
    "for item in five_char_irish_words:\n",
    "    for letter in unique_letters:\n",
    "        item[letter] = letter in item['word']"
   ]
  },
  {
   "cell_type": "code",
   "execution_count": 6,
   "id": "307f6f8c-3d86-4f23-9b8e-5515d887146b",
   "metadata": {},
   "outputs": [],
   "source": [
    "db = pd.DataFrame(five_char_irish_words)"
   ]
  },
  {
   "cell_type": "code",
   "execution_count": 7,
   "id": "b98f49b6-f226-4159-87f6-fe3b85d4096b",
   "metadata": {},
   "outputs": [
    {
     "data": {
      "text/html": [
       "<div>\n",
       "<style scoped>\n",
       "    .dataframe tbody tr th:only-of-type {\n",
       "        vertical-align: middle;\n",
       "    }\n",
       "\n",
       "    .dataframe tbody tr th {\n",
       "        vertical-align: top;\n",
       "    }\n",
       "\n",
       "    .dataframe thead th {\n",
       "        text-align: right;\n",
       "    }\n",
       "</style>\n",
       "<table border=\"1\" class=\"dataframe\">\n",
       "  <thead>\n",
       "    <tr style=\"text-align: right;\">\n",
       "      <th></th>\n",
       "      <th>word</th>\n",
       "      <th>freq</th>\n",
       "      <th>1</th>\n",
       "      <th>2</th>\n",
       "      <th>3</th>\n",
       "      <th>4</th>\n",
       "      <th>5</th>\n",
       "      <th>d</th>\n",
       "      <th>u</th>\n",
       "      <th>i</th>\n",
       "      <th>...</th>\n",
       "      <th>c</th>\n",
       "      <th>o</th>\n",
       "      <th>s</th>\n",
       "      <th>l</th>\n",
       "      <th>ó</th>\n",
       "      <th>p</th>\n",
       "      <th>ú</th>\n",
       "      <th>á</th>\n",
       "      <th>í</th>\n",
       "      <th>v</th>\n",
       "    </tr>\n",
       "  </thead>\n",
       "  <tbody>\n",
       "    <tr>\n",
       "      <th>0</th>\n",
       "      <td>duine</td>\n",
       "      <td>139569</td>\n",
       "      <td>d</td>\n",
       "      <td>u</td>\n",
       "      <td>i</td>\n",
       "      <td>n</td>\n",
       "      <td>e</td>\n",
       "      <td>True</td>\n",
       "      <td>True</td>\n",
       "      <td>True</td>\n",
       "      <td>...</td>\n",
       "      <td>False</td>\n",
       "      <td>False</td>\n",
       "      <td>False</td>\n",
       "      <td>False</td>\n",
       "      <td>False</td>\n",
       "      <td>False</td>\n",
       "      <td>False</td>\n",
       "      <td>False</td>\n",
       "      <td>False</td>\n",
       "      <td>False</td>\n",
       "    </tr>\n",
       "    <tr>\n",
       "      <th>1</th>\n",
       "      <td>abair</td>\n",
       "      <td>94140</td>\n",
       "      <td>a</td>\n",
       "      <td>b</td>\n",
       "      <td>a</td>\n",
       "      <td>i</td>\n",
       "      <td>r</td>\n",
       "      <td>False</td>\n",
       "      <td>False</td>\n",
       "      <td>True</td>\n",
       "      <td>...</td>\n",
       "      <td>False</td>\n",
       "      <td>False</td>\n",
       "      <td>False</td>\n",
       "      <td>False</td>\n",
       "      <td>False</td>\n",
       "      <td>False</td>\n",
       "      <td>False</td>\n",
       "      <td>False</td>\n",
       "      <td>False</td>\n",
       "      <td>False</td>\n",
       "    </tr>\n",
       "    <tr>\n",
       "      <th>2</th>\n",
       "      <td>maith</td>\n",
       "      <td>87286</td>\n",
       "      <td>m</td>\n",
       "      <td>a</td>\n",
       "      <td>i</td>\n",
       "      <td>t</td>\n",
       "      <td>h</td>\n",
       "      <td>False</td>\n",
       "      <td>False</td>\n",
       "      <td>True</td>\n",
       "      <td>...</td>\n",
       "      <td>False</td>\n",
       "      <td>False</td>\n",
       "      <td>False</td>\n",
       "      <td>False</td>\n",
       "      <td>False</td>\n",
       "      <td>False</td>\n",
       "      <td>False</td>\n",
       "      <td>False</td>\n",
       "      <td>False</td>\n",
       "      <td>False</td>\n",
       "    </tr>\n",
       "    <tr>\n",
       "      <th>3</th>\n",
       "      <td>faigh</td>\n",
       "      <td>86973</td>\n",
       "      <td>f</td>\n",
       "      <td>a</td>\n",
       "      <td>i</td>\n",
       "      <td>g</td>\n",
       "      <td>h</td>\n",
       "      <td>False</td>\n",
       "      <td>False</td>\n",
       "      <td>True</td>\n",
       "      <td>...</td>\n",
       "      <td>False</td>\n",
       "      <td>False</td>\n",
       "      <td>False</td>\n",
       "      <td>False</td>\n",
       "      <td>False</td>\n",
       "      <td>False</td>\n",
       "      <td>False</td>\n",
       "      <td>False</td>\n",
       "      <td>False</td>\n",
       "      <td>False</td>\n",
       "    </tr>\n",
       "    <tr>\n",
       "      <th>4</th>\n",
       "      <td>téigh</td>\n",
       "      <td>74714</td>\n",
       "      <td>t</td>\n",
       "      <td>é</td>\n",
       "      <td>i</td>\n",
       "      <td>g</td>\n",
       "      <td>h</td>\n",
       "      <td>False</td>\n",
       "      <td>False</td>\n",
       "      <td>True</td>\n",
       "      <td>...</td>\n",
       "      <td>False</td>\n",
       "      <td>False</td>\n",
       "      <td>False</td>\n",
       "      <td>False</td>\n",
       "      <td>False</td>\n",
       "      <td>False</td>\n",
       "      <td>False</td>\n",
       "      <td>False</td>\n",
       "      <td>False</td>\n",
       "      <td>False</td>\n",
       "    </tr>\n",
       "  </tbody>\n",
       "</table>\n",
       "<p>5 rows × 31 columns</p>\n",
       "</div>"
      ],
      "text/plain": [
       "    word    freq  1  2  3  4  5      d      u     i  ...      c      o      s  \\\n",
       "0  duine  139569  d  u  i  n  e   True   True  True  ...  False  False  False   \n",
       "1  abair   94140  a  b  a  i  r  False  False  True  ...  False  False  False   \n",
       "2  maith   87286  m  a  i  t  h  False  False  True  ...  False  False  False   \n",
       "3  faigh   86973  f  a  i  g  h  False  False  True  ...  False  False  False   \n",
       "4  téigh   74714  t  é  i  g  h  False  False  True  ...  False  False  False   \n",
       "\n",
       "       l      ó      p      ú      á      í      v  \n",
       "0  False  False  False  False  False  False  False  \n",
       "1  False  False  False  False  False  False  False  \n",
       "2  False  False  False  False  False  False  False  \n",
       "3  False  False  False  False  False  False  False  \n",
       "4  False  False  False  False  False  False  False  \n",
       "\n",
       "[5 rows x 31 columns]"
      ]
     },
     "execution_count": 7,
     "metadata": {},
     "output_type": "execute_result"
    }
   ],
   "source": [
    "db.head()"
   ]
  },
  {
   "cell_type": "markdown",
   "id": "8292d22c-63f1-40ae-b35a-381fcca21787",
   "metadata": {},
   "source": [
    "### Since the frequency values are counts lets norm them"
   ]
  },
  {
   "cell_type": "code",
   "execution_count": 8,
   "id": "cb880eb2-f319-44bc-91dd-5c5d04a5f4b3",
   "metadata": {},
   "outputs": [],
   "source": [
    "db['freq'] = db['freq'].astype(float) / db['freq'].astype(float).sum()"
   ]
  },
  {
   "cell_type": "code",
   "execution_count": 9,
   "id": "1ba9bca1-72fd-41ea-b94f-3cb78697d289",
   "metadata": {},
   "outputs": [
    {
     "data": {
      "text/plain": [
       "d    0.030769\n",
       "u    0.023776\n",
       "i    0.092541\n",
       "n    0.050816\n",
       "e    0.050583\n",
       "a    0.123776\n",
       "b    0.027972\n",
       "r    0.073427\n",
       "m    0.028904\n",
       "t    0.055944\n",
       "h    0.043124\n",
       "f    0.018182\n",
       "g    0.034266\n",
       "é    0.016084\n",
       "c    0.065967\n",
       "o    0.051981\n",
       "s    0.063636\n",
       "l    0.055012\n",
       "ó    0.011655\n",
       "p    0.015851\n",
       "ú    0.019114\n",
       "á    0.027040\n",
       "í    0.018881\n",
       "v    0.000699\n",
       "dtype: float64"
      ]
     },
     "execution_count": 9,
     "metadata": {},
     "output_type": "execute_result"
    }
   ],
   "source": [
    "# this gives the relative likelihood of each letter\n",
    "# we'll create a score based on the sum of the letter likelihoods\n",
    "letter_likelihood = db[db.columns[7:]].sum() / db[db.columns[7:]].sum().sum(); letter_likelihood"
   ]
  },
  {
   "cell_type": "markdown",
   "id": "5608b24a-adad-4754-838c-847a8faedb28",
   "metadata": {},
   "source": [
    "Let's add a simple score column, based on the letter likelihood in each word"
   ]
  },
  {
   "cell_type": "code",
   "execution_count": 10,
   "id": "8bbde452-a32a-4725-95a7-644bf6df0b09",
   "metadata": {},
   "outputs": [
    {
     "data": {
      "text/plain": [
       "0      0.248485\n",
       "1      0.317716\n",
       "2      0.344289\n",
       "3      0.311888\n",
       "4      0.241958\n",
       "         ...   \n",
       "908    0.303963\n",
       "909    0.359907\n",
       "910    0.267133\n",
       "911    0.218881\n",
       "912    0.320513\n",
       "Name: score, Length: 913, dtype: float64"
      ]
     },
     "execution_count": 10,
     "metadata": {},
     "output_type": "execute_result"
    }
   ],
   "source": [
    "# summing up all of the values for the cases where we have a matching letter is the same thing\n",
    "# as taking the dot product, and pandas has a handy function out of the box for that!\n",
    "\n",
    "db['score'] = db[db.columns[7:]].dot(letter_likelihood); db['score']"
   ]
  },
  {
   "cell_type": "code",
   "execution_count": 11,
   "id": "b58ed05b-29e0-464c-8aff-b5cb9a65f8a9",
   "metadata": {},
   "outputs": [],
   "source": [
    "db.to_parquet('./assets/small_irish_df.parquet', index=False)"
   ]
  },
  {
   "cell_type": "code",
   "execution_count": 12,
   "id": "08e27a14-48d4-49d6-9eac-4dad2cd1dc8e",
   "metadata": {},
   "outputs": [],
   "source": [
    "g = WordleSolver(db)"
   ]
  },
  {
   "cell_type": "code",
   "execution_count": 13,
   "id": "33c9f226-c241-4812-85c8-ff60f58e4796",
   "metadata": {},
   "outputs": [
    {
     "name": "stdout",
     "output_type": "stream",
     "text": [
      "Guess: toill\n",
      "t r\n",
      "o r\n",
      "i g\n",
      "l r\n",
      "l r\n"
     ]
    },
    {
     "data": {
      "text/plain": [
       "0      duine\n",
       "3      faigh\n",
       "21     dóigh\n",
       "33     imigh\n",
       "60     suigh\n",
       "       ...  \n",
       "876    múisc\n",
       "878    buirg\n",
       "888    céide\n",
       "900    caise\n",
       "904    muine\n",
       "Name: word, Length: 73, dtype: object"
      ]
     },
     "execution_count": 13,
     "metadata": {},
     "output_type": "execute_result"
    }
   ],
   "source": [
    "guess = g.make_guess(); print(f'Guess: {guess}')\n",
    "clues = g.evaluate_guess(guess, 'báire')\n",
    "g.update_clues_and_guess(clues, guess)\n",
    "g.list_possible_guesses()"
   ]
  },
  {
   "cell_type": "code",
   "execution_count": 14,
   "id": "45893118-da54-41c2-bbc7-071748b3f044",
   "metadata": {},
   "outputs": [
    {
     "name": "stdout",
     "output_type": "stream",
     "text": [
      "scine\n",
      "s r\n",
      "c r\n",
      "i g\n",
      "n r\n",
      "e g\n"
     ]
    },
    {
     "data": {
      "text/plain": [
       "63     máire\n",
       "164    gáire\n",
       "175    muire\n",
       "251    báire\n",
       "256    maide\n",
       "291    péire\n",
       "412    faire\n",
       "652    faide\n",
       "691    géire\n",
       "Name: word, dtype: object"
      ]
     },
     "execution_count": 14,
     "metadata": {},
     "output_type": "execute_result"
    }
   ],
   "source": [
    "guess = g.make_guess(); print(guess)\n",
    "clues = g.evaluate_guess(guess, 'báire')\n",
    "g.update_clues_and_guess(clues, guess)\n",
    "g.list_possible_guesses()"
   ]
  },
  {
   "cell_type": "code",
   "execution_count": 15,
   "id": "d2dbf921-cf72-4608-8846-9b9820fcd9b0",
   "metadata": {},
   "outputs": [
    {
     "name": "stdout",
     "output_type": "stream",
     "text": [
      "báire\n",
      "b g\n",
      "á g\n",
      "i g\n",
      "r g\n",
      "e g\n"
     ]
    },
    {
     "data": {
      "text/plain": [
       "251    báire\n",
       "Name: word, dtype: object"
      ]
     },
     "execution_count": 15,
     "metadata": {},
     "output_type": "execute_result"
    }
   ],
   "source": [
    "guess = g.make_guess(); print(guess)\n",
    "clues = g.evaluate_guess(guess, 'báire')\n",
    "g.update_clues_and_guess(clues, guess)\n",
    "g.list_possible_guesses()"
   ]
  },
  {
   "cell_type": "code",
   "execution_count": null,
   "id": "fb39ea03-517e-41b1-8039-c41578cdd939",
   "metadata": {},
   "outputs": [],
   "source": []
  }
 ],
 "metadata": {
  "kernelspec": {
   "display_name": "Python 3",
   "language": "python",
   "name": "python3"
  },
  "language_info": {
   "codemirror_mode": {
    "name": "ipython",
    "version": 3
   },
   "file_extension": ".py",
   "mimetype": "text/x-python",
   "name": "python",
   "nbconvert_exporter": "python",
   "pygments_lexer": "ipython3",
   "version": "3.9.4"
  }
 },
 "nbformat": 4,
 "nbformat_minor": 5
}
